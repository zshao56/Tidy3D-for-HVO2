{
 "cells": [
  {
   "cell_type": "code",
   "execution_count": null,
   "id": "initial_id",
   "metadata": {
    "collapsed": true
   },
   "outputs": [],
   "source": [
    "import numpy as np\n",
    "import matplotlib.pyplot as plt\n",
    "\n",
    "import tidy3d as td\n",
    "from tidy3d import web"
   ]
  },
  {
   "cell_type": "code",
   "outputs": [],
   "source": [
    "t_total = 0.1\n",
    "t_VO2 = 0.05\n",
    "t_HxVO2 = t - t_VO2\n",
    "t_Al2O3 = 1"
   ],
   "metadata": {
    "collapsed": false
   },
   "id": "cf57fae7e27f2a0f"
  },
  {
   "cell_type": "code",
   "outputs": [],
   "source": [
    "medium_HxVO2 = td.PoleResidue.from_file(r\"F:\\OneDrive - UW-Madison\\python\\tidy 3d\\data\\nkmodule\\VO2-HT.json\")\n",
    "medium_VO2 = td.PoleResidue.from_file(r\"F:\\OneDrive - UW-Madison\\python\\tidy 3d\\data\\nkmodule\\VO2-LT.json\")\n",
    "medium_Al2O3 = td.PoleResidue.from_file(r\"\")"
   ],
   "metadata": {
    "collapsed": false
   },
   "id": "3a9c4f67e0e06d18"
  }
 ],
 "metadata": {
  "kernelspec": {
   "display_name": "Python 3",
   "language": "python",
   "name": "python3"
  },
  "language_info": {
   "codemirror_mode": {
    "name": "ipython",
    "version": 2
   },
   "file_extension": ".py",
   "mimetype": "text/x-python",
   "name": "python",
   "nbconvert_exporter": "python",
   "pygments_lexer": "ipython2",
   "version": "2.7.6"
  }
 },
 "nbformat": 4,
 "nbformat_minor": 5
}
