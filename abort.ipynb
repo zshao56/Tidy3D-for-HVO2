{
 "cells": [
  {
   "cell_type": "code",
   "execution_count": 1,
   "id": "initial_id",
   "metadata": {
    "collapsed": true,
    "ExecuteTime": {
     "end_time": "2024-02-24T21:53:58.203724700Z",
     "start_time": "2024-02-24T21:53:56.223961900Z"
    }
   },
   "outputs": [],
   "source": [
    "import numpy as np\n",
    "import matplotlib.pyplot as plt\n",
    "import tidy3d as td\n",
    "from tidy3d import web"
   ]
  },
  {
   "cell_type": "code",
   "outputs": [
    {
     "data": {
      "text/plain": "TaskInfo(taskId='fdve-94c7f201-d3d4-4a73-8467-8bd903392e2b', taskName='HVO2-0.01', nodeSize=432000, completedAt=None, status='running', realCost=None, timeSteps=6294011, solverVersion='release-24.1.2', createAt=None, estCostMin=0.0, estCostMax=0.0, realFlexUnit=0.0, oriRealFlexUnit=None, estFlexUnit=5.080469674820654, estFlexCreditTimeStepping=5.080469644442939, estFlexCreditPostProcess=3.0377715789473685e-08, estFlexCreditMode=0.0, s3Storage=0.0, startSolverTime=None, finishSolverTime=None, totalSolverTime=0, callbackUrl=None, taskType=None, metadataStatus='success', taskBlockInfo=TaskBlockInfo(chargeType=<ChargeType.PAID: 'paid'>, maxFreeCount=None, maxGridPoints=None, maxTimeSteps=None))"
     },
     "execution_count": 2,
     "metadata": {},
     "output_type": "execute_result"
    }
   ],
   "source": [
    "web.abort(\"fdve-94c7f201-d3d4-4a73-8467-8bd903392e2b\")"
   ],
   "metadata": {
    "collapsed": false,
    "ExecuteTime": {
     "end_time": "2024-02-24T21:54:00.737981300Z",
     "start_time": "2024-02-24T21:54:00.169811200Z"
    }
   },
   "id": "94e356c786cfbae4",
   "execution_count": 2
  },
  {
   "cell_type": "code",
   "outputs": [],
   "source": [],
   "metadata": {
    "collapsed": false
   },
   "id": "4932499c293138b0"
  }
 ],
 "metadata": {
  "kernelspec": {
   "display_name": "Python 3",
   "language": "python",
   "name": "python3"
  },
  "language_info": {
   "codemirror_mode": {
    "name": "ipython",
    "version": 2
   },
   "file_extension": ".py",
   "mimetype": "text/x-python",
   "name": "python",
   "nbconvert_exporter": "python",
   "pygments_lexer": "ipython2",
   "version": "2.7.6"
  }
 },
 "nbformat": 4,
 "nbformat_minor": 5
}
