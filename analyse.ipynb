{
 "cells": [
  {
   "cell_type": "code",
   "outputs": [
    {
     "data": {
      "text/plain": "\u001B[2;36m16:22:33 ??????\u001B[0m\u001B[2;36m \u001B[0m\u001B[31mWARNING: Structure at \u001B[0m\u001B[32m'structures\u001B[0m\u001B[32m[\u001B[0m\u001B[32m0\u001B[0m\u001B[32m]\u001B[0m\u001B[32m'\u001B[0m\u001B[31m has bounds that extend    \u001B[0m\n\u001B[2;36m                \u001B[0m\u001B[31mexactly to simulation edges. This can cause unexpected behavior.\u001B[0m\n\u001B[2;36m                \u001B[0m\u001B[31mIf intending to extend the structure to infinity along one      \u001B[0m\n\u001B[2;36m                \u001B[0m\u001B[31mdimension, use td.inf as a size variable instead to make this   \u001B[0m\n\u001B[2;36m                \u001B[0m\u001B[31mexplicit.                                                       \u001B[0m\n",
      "text/html": "<pre style=\"white-space:pre;overflow-x:auto;line-height:normal;font-family:Menlo,'DejaVu Sans Mono',consolas,'Courier New',monospace\"><span style=\"color: #7fbfbf; text-decoration-color: #7fbfbf\">16:22:33 ?????? </span><span style=\"color: #800000; text-decoration-color: #800000\">WARNING: Structure at </span><span style=\"color: #008000; text-decoration-color: #008000\">'structures[0]'</span><span style=\"color: #800000; text-decoration-color: #800000\"> has bounds that extend    </span>\n<span style=\"color: #7fbfbf; text-decoration-color: #7fbfbf\">                </span><span style=\"color: #800000; text-decoration-color: #800000\">exactly to simulation edges. This can cause unexpected behavior.</span>\n<span style=\"color: #7fbfbf; text-decoration-color: #7fbfbf\">                </span><span style=\"color: #800000; text-decoration-color: #800000\">If intending to extend the structure to infinity along one      </span>\n<span style=\"color: #7fbfbf; text-decoration-color: #7fbfbf\">                </span><span style=\"color: #800000; text-decoration-color: #800000\">dimension, use td.inf as a size variable instead to make this   </span>\n<span style=\"color: #7fbfbf; text-decoration-color: #7fbfbf\">                </span><span style=\"color: #800000; text-decoration-color: #800000\">explicit.                                                       </span>\n</pre>\n"
     },
     "metadata": {},
     "output_type": "display_data"
    },
    {
     "data": {
      "text/plain": "\u001B[2;36m               \u001B[0m\u001B[2;36m \u001B[0m\u001B[31mWARNING: Suppressed \u001B[0m\u001B[1;36m3\u001B[0m\u001B[31m WARNING messages.                         \u001B[0m\n",
      "text/html": "<pre style=\"white-space:pre;overflow-x:auto;line-height:normal;font-family:Menlo,'DejaVu Sans Mono',consolas,'Courier New',monospace\"><span style=\"color: #7fbfbf; text-decoration-color: #7fbfbf\">                </span><span style=\"color: #800000; text-decoration-color: #800000\">WARNING: Suppressed </span><span style=\"color: #008080; text-decoration-color: #008080; font-weight: bold\">3</span><span style=\"color: #800000; text-decoration-color: #800000\"> WARNING messages.                         </span>\n</pre>\n"
     },
     "metadata": {},
     "output_type": "display_data"
    },
    {
     "data": {
      "text/plain": "\u001B[2;36m               \u001B[0m\u001B[2;36m \u001B[0m\u001B[31mWARNING: Structure at structures\u001B[0m\u001B[1;31m[\u001B[0m\u001B[1;36m0\u001B[0m\u001B[1;31m]\u001B[0m\u001B[31m was detected as being less  \u001B[0m\n\u001B[2;36m                \u001B[0m\u001B[31mthan half of a central wavelength from a PML on side z-min. To  \u001B[0m\n\u001B[2;36m                \u001B[0m\u001B[31mavoid inaccurate results or divergence, please increase gap     \u001B[0m\n\u001B[2;36m                \u001B[0m\u001B[31mbetween any structures and PML or fully extend structure through\u001B[0m\n\u001B[2;36m                \u001B[0m\u001B[31mthe pml.                                                        \u001B[0m\n",
      "text/html": "<pre style=\"white-space:pre;overflow-x:auto;line-height:normal;font-family:Menlo,'DejaVu Sans Mono',consolas,'Courier New',monospace\"><span style=\"color: #7fbfbf; text-decoration-color: #7fbfbf\">                </span><span style=\"color: #800000; text-decoration-color: #800000\">WARNING: Structure at structures</span><span style=\"color: #800000; text-decoration-color: #800000; font-weight: bold\">[</span><span style=\"color: #008080; text-decoration-color: #008080; font-weight: bold\">0</span><span style=\"color: #800000; text-decoration-color: #800000; font-weight: bold\">]</span><span style=\"color: #800000; text-decoration-color: #800000\"> was detected as being less  </span>\n<span style=\"color: #7fbfbf; text-decoration-color: #7fbfbf\">                </span><span style=\"color: #800000; text-decoration-color: #800000\">than half of a central wavelength from a PML on side z-min. To  </span>\n<span style=\"color: #7fbfbf; text-decoration-color: #7fbfbf\">                </span><span style=\"color: #800000; text-decoration-color: #800000\">avoid inaccurate results or divergence, please increase gap     </span>\n<span style=\"color: #7fbfbf; text-decoration-color: #7fbfbf\">                </span><span style=\"color: #800000; text-decoration-color: #800000\">between any structures and PML or fully extend structure through</span>\n<span style=\"color: #7fbfbf; text-decoration-color: #7fbfbf\">                </span><span style=\"color: #800000; text-decoration-color: #800000\">the pml.                                                        </span>\n</pre>\n"
     },
     "metadata": {},
     "output_type": "display_data"
    },
    {
     "data": {
      "text/plain": "\u001B[2;36m               \u001B[0m\u001B[2;36m \u001B[0m\u001B[31mWARNING: Suppressed \u001B[0m\u001B[1;36m4\u001B[0m\u001B[31m WARNING messages.                         \u001B[0m\n",
      "text/html": "<pre style=\"white-space:pre;overflow-x:auto;line-height:normal;font-family:Menlo,'DejaVu Sans Mono',consolas,'Courier New',monospace\"><span style=\"color: #7fbfbf; text-decoration-color: #7fbfbf\">                </span><span style=\"color: #800000; text-decoration-color: #800000\">WARNING: Suppressed </span><span style=\"color: #008080; text-decoration-color: #008080; font-weight: bold\">4</span><span style=\"color: #800000; text-decoration-color: #800000\"> WARNING messages.                         </span>\n</pre>\n"
     },
     "metadata": {},
     "output_type": "display_data"
    },
    {
     "data": {
      "text/plain": "\u001B[2;36m               \u001B[0m\u001B[2;36m \u001B[0m\u001B[31mWARNING: Structure at \u001B[0m\u001B[32m'structures\u001B[0m\u001B[32m[\u001B[0m\u001B[32m0\u001B[0m\u001B[32m]\u001B[0m\u001B[32m'\u001B[0m\u001B[31m has bounds that extend    \u001B[0m\n\u001B[2;36m                \u001B[0m\u001B[31mexactly to simulation edges. This can cause unexpected behavior.\u001B[0m\n\u001B[2;36m                \u001B[0m\u001B[31mIf intending to extend the structure to infinity along one      \u001B[0m\n\u001B[2;36m                \u001B[0m\u001B[31mdimension, use td.inf as a size variable instead to make this   \u001B[0m\n\u001B[2;36m                \u001B[0m\u001B[31mexplicit.                                                       \u001B[0m\n",
      "text/html": "<pre style=\"white-space:pre;overflow-x:auto;line-height:normal;font-family:Menlo,'DejaVu Sans Mono',consolas,'Courier New',monospace\"><span style=\"color: #7fbfbf; text-decoration-color: #7fbfbf\">                </span><span style=\"color: #800000; text-decoration-color: #800000\">WARNING: Structure at </span><span style=\"color: #008000; text-decoration-color: #008000\">'structures[0]'</span><span style=\"color: #800000; text-decoration-color: #800000\"> has bounds that extend    </span>\n<span style=\"color: #7fbfbf; text-decoration-color: #7fbfbf\">                </span><span style=\"color: #800000; text-decoration-color: #800000\">exactly to simulation edges. This can cause unexpected behavior.</span>\n<span style=\"color: #7fbfbf; text-decoration-color: #7fbfbf\">                </span><span style=\"color: #800000; text-decoration-color: #800000\">If intending to extend the structure to infinity along one      </span>\n<span style=\"color: #7fbfbf; text-decoration-color: #7fbfbf\">                </span><span style=\"color: #800000; text-decoration-color: #800000\">dimension, use td.inf as a size variable instead to make this   </span>\n<span style=\"color: #7fbfbf; text-decoration-color: #7fbfbf\">                </span><span style=\"color: #800000; text-decoration-color: #800000\">explicit.                                                       </span>\n</pre>\n"
     },
     "metadata": {},
     "output_type": "display_data"
    },
    {
     "data": {
      "text/plain": "\u001B[2;36m               \u001B[0m\u001B[2;36m \u001B[0m\u001B[31mWARNING: Suppressed \u001B[0m\u001B[1;36m3\u001B[0m\u001B[31m WARNING messages.                         \u001B[0m\n",
      "text/html": "<pre style=\"white-space:pre;overflow-x:auto;line-height:normal;font-family:Menlo,'DejaVu Sans Mono',consolas,'Courier New',monospace\"><span style=\"color: #7fbfbf; text-decoration-color: #7fbfbf\">                </span><span style=\"color: #800000; text-decoration-color: #800000\">WARNING: Suppressed </span><span style=\"color: #008080; text-decoration-color: #008080; font-weight: bold\">3</span><span style=\"color: #800000; text-decoration-color: #800000\"> WARNING messages.                         </span>\n</pre>\n"
     },
     "metadata": {},
     "output_type": "display_data"
    },
    {
     "data": {
      "text/plain": "\u001B[2;36m               \u001B[0m\u001B[2;36m \u001B[0m\u001B[31mWARNING: Structure at structures\u001B[0m\u001B[1;31m[\u001B[0m\u001B[1;36m0\u001B[0m\u001B[1;31m]\u001B[0m\u001B[31m was detected as being less  \u001B[0m\n\u001B[2;36m                \u001B[0m\u001B[31mthan half of a central wavelength from a PML on side z-min. To  \u001B[0m\n\u001B[2;36m                \u001B[0m\u001B[31mavoid inaccurate results or divergence, please increase gap     \u001B[0m\n\u001B[2;36m                \u001B[0m\u001B[31mbetween any structures and PML or fully extend structure through\u001B[0m\n\u001B[2;36m                \u001B[0m\u001B[31mthe pml.                                                        \u001B[0m\n",
      "text/html": "<pre style=\"white-space:pre;overflow-x:auto;line-height:normal;font-family:Menlo,'DejaVu Sans Mono',consolas,'Courier New',monospace\"><span style=\"color: #7fbfbf; text-decoration-color: #7fbfbf\">                </span><span style=\"color: #800000; text-decoration-color: #800000\">WARNING: Structure at structures</span><span style=\"color: #800000; text-decoration-color: #800000; font-weight: bold\">[</span><span style=\"color: #008080; text-decoration-color: #008080; font-weight: bold\">0</span><span style=\"color: #800000; text-decoration-color: #800000; font-weight: bold\">]</span><span style=\"color: #800000; text-decoration-color: #800000\"> was detected as being less  </span>\n<span style=\"color: #7fbfbf; text-decoration-color: #7fbfbf\">                </span><span style=\"color: #800000; text-decoration-color: #800000\">than half of a central wavelength from a PML on side z-min. To  </span>\n<span style=\"color: #7fbfbf; text-decoration-color: #7fbfbf\">                </span><span style=\"color: #800000; text-decoration-color: #800000\">avoid inaccurate results or divergence, please increase gap     </span>\n<span style=\"color: #7fbfbf; text-decoration-color: #7fbfbf\">                </span><span style=\"color: #800000; text-decoration-color: #800000\">between any structures and PML or fully extend structure through</span>\n<span style=\"color: #7fbfbf; text-decoration-color: #7fbfbf\">                </span><span style=\"color: #800000; text-decoration-color: #800000\">the pml.                                                        </span>\n</pre>\n"
     },
     "metadata": {},
     "output_type": "display_data"
    },
    {
     "data": {
      "text/plain": "\u001B[2;36m               \u001B[0m\u001B[2;36m \u001B[0m\u001B[31mWARNING: Suppressed \u001B[0m\u001B[1;36m4\u001B[0m\u001B[31m WARNING messages.                         \u001B[0m\n",
      "text/html": "<pre style=\"white-space:pre;overflow-x:auto;line-height:normal;font-family:Menlo,'DejaVu Sans Mono',consolas,'Courier New',monospace\"><span style=\"color: #7fbfbf; text-decoration-color: #7fbfbf\">                </span><span style=\"color: #800000; text-decoration-color: #800000\">WARNING: Suppressed </span><span style=\"color: #008080; text-decoration-color: #008080; font-weight: bold\">4</span><span style=\"color: #800000; text-decoration-color: #800000\"> WARNING messages.                         </span>\n</pre>\n"
     },
     "metadata": {},
     "output_type": "display_data"
    },
    {
     "data": {
      "text/plain": "\u001B[2;36m16:22:34 ??????\u001B[0m\u001B[2;36m \u001B[0m\u001B[31mWARNING: Structure at \u001B[0m\u001B[32m'structures\u001B[0m\u001B[32m[\u001B[0m\u001B[32m0\u001B[0m\u001B[32m]\u001B[0m\u001B[32m'\u001B[0m\u001B[31m has bounds that extend    \u001B[0m\n\u001B[2;36m                \u001B[0m\u001B[31mexactly to simulation edges. This can cause unexpected behavior.\u001B[0m\n\u001B[2;36m                \u001B[0m\u001B[31mIf intending to extend the structure to infinity along one      \u001B[0m\n\u001B[2;36m                \u001B[0m\u001B[31mdimension, use td.inf as a size variable instead to make this   \u001B[0m\n\u001B[2;36m                \u001B[0m\u001B[31mexplicit.                                                       \u001B[0m\n",
      "text/html": "<pre style=\"white-space:pre;overflow-x:auto;line-height:normal;font-family:Menlo,'DejaVu Sans Mono',consolas,'Courier New',monospace\"><span style=\"color: #7fbfbf; text-decoration-color: #7fbfbf\">16:22:34 ?????? </span><span style=\"color: #800000; text-decoration-color: #800000\">WARNING: Structure at </span><span style=\"color: #008000; text-decoration-color: #008000\">'structures[0]'</span><span style=\"color: #800000; text-decoration-color: #800000\"> has bounds that extend    </span>\n<span style=\"color: #7fbfbf; text-decoration-color: #7fbfbf\">                </span><span style=\"color: #800000; text-decoration-color: #800000\">exactly to simulation edges. This can cause unexpected behavior.</span>\n<span style=\"color: #7fbfbf; text-decoration-color: #7fbfbf\">                </span><span style=\"color: #800000; text-decoration-color: #800000\">If intending to extend the structure to infinity along one      </span>\n<span style=\"color: #7fbfbf; text-decoration-color: #7fbfbf\">                </span><span style=\"color: #800000; text-decoration-color: #800000\">dimension, use td.inf as a size variable instead to make this   </span>\n<span style=\"color: #7fbfbf; text-decoration-color: #7fbfbf\">                </span><span style=\"color: #800000; text-decoration-color: #800000\">explicit.                                                       </span>\n</pre>\n"
     },
     "metadata": {},
     "output_type": "display_data"
    },
    {
     "data": {
      "text/plain": "\u001B[2;36m               \u001B[0m\u001B[2;36m \u001B[0m\u001B[31mWARNING: Suppressed \u001B[0m\u001B[1;36m3\u001B[0m\u001B[31m WARNING messages.                         \u001B[0m\n",
      "text/html": "<pre style=\"white-space:pre;overflow-x:auto;line-height:normal;font-family:Menlo,'DejaVu Sans Mono',consolas,'Courier New',monospace\"><span style=\"color: #7fbfbf; text-decoration-color: #7fbfbf\">                </span><span style=\"color: #800000; text-decoration-color: #800000\">WARNING: Suppressed </span><span style=\"color: #008080; text-decoration-color: #008080; font-weight: bold\">3</span><span style=\"color: #800000; text-decoration-color: #800000\"> WARNING messages.                         </span>\n</pre>\n"
     },
     "metadata": {},
     "output_type": "display_data"
    },
    {
     "data": {
      "text/plain": "\u001B[2;36m               \u001B[0m\u001B[2;36m \u001B[0m\u001B[31mWARNING: Structure at structures\u001B[0m\u001B[1;31m[\u001B[0m\u001B[1;36m0\u001B[0m\u001B[1;31m]\u001B[0m\u001B[31m was detected as being less  \u001B[0m\n\u001B[2;36m                \u001B[0m\u001B[31mthan half of a central wavelength from a PML on side z-min. To  \u001B[0m\n\u001B[2;36m                \u001B[0m\u001B[31mavoid inaccurate results or divergence, please increase gap     \u001B[0m\n\u001B[2;36m                \u001B[0m\u001B[31mbetween any structures and PML or fully extend structure through\u001B[0m\n\u001B[2;36m                \u001B[0m\u001B[31mthe pml.                                                        \u001B[0m\n",
      "text/html": "<pre style=\"white-space:pre;overflow-x:auto;line-height:normal;font-family:Menlo,'DejaVu Sans Mono',consolas,'Courier New',monospace\"><span style=\"color: #7fbfbf; text-decoration-color: #7fbfbf\">                </span><span style=\"color: #800000; text-decoration-color: #800000\">WARNING: Structure at structures</span><span style=\"color: #800000; text-decoration-color: #800000; font-weight: bold\">[</span><span style=\"color: #008080; text-decoration-color: #008080; font-weight: bold\">0</span><span style=\"color: #800000; text-decoration-color: #800000; font-weight: bold\">]</span><span style=\"color: #800000; text-decoration-color: #800000\"> was detected as being less  </span>\n<span style=\"color: #7fbfbf; text-decoration-color: #7fbfbf\">                </span><span style=\"color: #800000; text-decoration-color: #800000\">than half of a central wavelength from a PML on side z-min. To  </span>\n<span style=\"color: #7fbfbf; text-decoration-color: #7fbfbf\">                </span><span style=\"color: #800000; text-decoration-color: #800000\">avoid inaccurate results or divergence, please increase gap     </span>\n<span style=\"color: #7fbfbf; text-decoration-color: #7fbfbf\">                </span><span style=\"color: #800000; text-decoration-color: #800000\">between any structures and PML or fully extend structure through</span>\n<span style=\"color: #7fbfbf; text-decoration-color: #7fbfbf\">                </span><span style=\"color: #800000; text-decoration-color: #800000\">the pml.                                                        </span>\n</pre>\n"
     },
     "metadata": {},
     "output_type": "display_data"
    },
    {
     "data": {
      "text/plain": "\u001B[2;36m               \u001B[0m\u001B[2;36m \u001B[0m\u001B[31mWARNING: Suppressed \u001B[0m\u001B[1;36m4\u001B[0m\u001B[31m WARNING messages.                         \u001B[0m\n",
      "text/html": "<pre style=\"white-space:pre;overflow-x:auto;line-height:normal;font-family:Menlo,'DejaVu Sans Mono',consolas,'Courier New',monospace\"><span style=\"color: #7fbfbf; text-decoration-color: #7fbfbf\">                </span><span style=\"color: #800000; text-decoration-color: #800000\">WARNING: Suppressed </span><span style=\"color: #008080; text-decoration-color: #008080; font-weight: bold\">4</span><span style=\"color: #800000; text-decoration-color: #800000\"> WARNING messages.                         </span>\n</pre>\n"
     },
     "metadata": {},
     "output_type": "display_data"
    },
    {
     "data": {
      "text/plain": "\u001B[2;36m               \u001B[0m\u001B[2;36m \u001B[0m\u001B[31mWARNING: Structure at \u001B[0m\u001B[32m'structures\u001B[0m\u001B[32m[\u001B[0m\u001B[32m0\u001B[0m\u001B[32m]\u001B[0m\u001B[32m'\u001B[0m\u001B[31m has bounds that extend    \u001B[0m\n\u001B[2;36m                \u001B[0m\u001B[31mexactly to simulation edges. This can cause unexpected behavior.\u001B[0m\n\u001B[2;36m                \u001B[0m\u001B[31mIf intending to extend the structure to infinity along one      \u001B[0m\n\u001B[2;36m                \u001B[0m\u001B[31mdimension, use td.inf as a size variable instead to make this   \u001B[0m\n\u001B[2;36m                \u001B[0m\u001B[31mexplicit.                                                       \u001B[0m\n",
      "text/html": "<pre style=\"white-space:pre;overflow-x:auto;line-height:normal;font-family:Menlo,'DejaVu Sans Mono',consolas,'Courier New',monospace\"><span style=\"color: #7fbfbf; text-decoration-color: #7fbfbf\">                </span><span style=\"color: #800000; text-decoration-color: #800000\">WARNING: Structure at </span><span style=\"color: #008000; text-decoration-color: #008000\">'structures[0]'</span><span style=\"color: #800000; text-decoration-color: #800000\"> has bounds that extend    </span>\n<span style=\"color: #7fbfbf; text-decoration-color: #7fbfbf\">                </span><span style=\"color: #800000; text-decoration-color: #800000\">exactly to simulation edges. This can cause unexpected behavior.</span>\n<span style=\"color: #7fbfbf; text-decoration-color: #7fbfbf\">                </span><span style=\"color: #800000; text-decoration-color: #800000\">If intending to extend the structure to infinity along one      </span>\n<span style=\"color: #7fbfbf; text-decoration-color: #7fbfbf\">                </span><span style=\"color: #800000; text-decoration-color: #800000\">dimension, use td.inf as a size variable instead to make this   </span>\n<span style=\"color: #7fbfbf; text-decoration-color: #7fbfbf\">                </span><span style=\"color: #800000; text-decoration-color: #800000\">explicit.                                                       </span>\n</pre>\n"
     },
     "metadata": {},
     "output_type": "display_data"
    },
    {
     "data": {
      "text/plain": "\u001B[2;36m               \u001B[0m\u001B[2;36m \u001B[0m\u001B[31mWARNING: Suppressed \u001B[0m\u001B[1;36m3\u001B[0m\u001B[31m WARNING messages.                         \u001B[0m\n",
      "text/html": "<pre style=\"white-space:pre;overflow-x:auto;line-height:normal;font-family:Menlo,'DejaVu Sans Mono',consolas,'Courier New',monospace\"><span style=\"color: #7fbfbf; text-decoration-color: #7fbfbf\">                </span><span style=\"color: #800000; text-decoration-color: #800000\">WARNING: Suppressed </span><span style=\"color: #008080; text-decoration-color: #008080; font-weight: bold\">3</span><span style=\"color: #800000; text-decoration-color: #800000\"> WARNING messages.                         </span>\n</pre>\n"
     },
     "metadata": {},
     "output_type": "display_data"
    },
    {
     "data": {
      "text/plain": "\u001B[2;36m               \u001B[0m\u001B[2;36m \u001B[0m\u001B[31mWARNING: Structure at structures\u001B[0m\u001B[1;31m[\u001B[0m\u001B[1;36m0\u001B[0m\u001B[1;31m]\u001B[0m\u001B[31m was detected as being less  \u001B[0m\n\u001B[2;36m                \u001B[0m\u001B[31mthan half of a central wavelength from a PML on side z-min. To  \u001B[0m\n\u001B[2;36m                \u001B[0m\u001B[31mavoid inaccurate results or divergence, please increase gap     \u001B[0m\n\u001B[2;36m                \u001B[0m\u001B[31mbetween any structures and PML or fully extend structure through\u001B[0m\n\u001B[2;36m                \u001B[0m\u001B[31mthe pml.                                                        \u001B[0m\n",
      "text/html": "<pre style=\"white-space:pre;overflow-x:auto;line-height:normal;font-family:Menlo,'DejaVu Sans Mono',consolas,'Courier New',monospace\"><span style=\"color: #7fbfbf; text-decoration-color: #7fbfbf\">                </span><span style=\"color: #800000; text-decoration-color: #800000\">WARNING: Structure at structures</span><span style=\"color: #800000; text-decoration-color: #800000; font-weight: bold\">[</span><span style=\"color: #008080; text-decoration-color: #008080; font-weight: bold\">0</span><span style=\"color: #800000; text-decoration-color: #800000; font-weight: bold\">]</span><span style=\"color: #800000; text-decoration-color: #800000\"> was detected as being less  </span>\n<span style=\"color: #7fbfbf; text-decoration-color: #7fbfbf\">                </span><span style=\"color: #800000; text-decoration-color: #800000\">than half of a central wavelength from a PML on side z-min. To  </span>\n<span style=\"color: #7fbfbf; text-decoration-color: #7fbfbf\">                </span><span style=\"color: #800000; text-decoration-color: #800000\">avoid inaccurate results or divergence, please increase gap     </span>\n<span style=\"color: #7fbfbf; text-decoration-color: #7fbfbf\">                </span><span style=\"color: #800000; text-decoration-color: #800000\">between any structures and PML or fully extend structure through</span>\n<span style=\"color: #7fbfbf; text-decoration-color: #7fbfbf\">                </span><span style=\"color: #800000; text-decoration-color: #800000\">the pml.                                                        </span>\n</pre>\n"
     },
     "metadata": {},
     "output_type": "display_data"
    },
    {
     "data": {
      "text/plain": "\u001B[2;36m               \u001B[0m\u001B[2;36m \u001B[0m\u001B[31mWARNING: Suppressed \u001B[0m\u001B[1;36m4\u001B[0m\u001B[31m WARNING messages.                         \u001B[0m\n",
      "text/html": "<pre style=\"white-space:pre;overflow-x:auto;line-height:normal;font-family:Menlo,'DejaVu Sans Mono',consolas,'Courier New',monospace\"><span style=\"color: #7fbfbf; text-decoration-color: #7fbfbf\">                </span><span style=\"color: #800000; text-decoration-color: #800000\">WARNING: Suppressed </span><span style=\"color: #008080; text-decoration-color: #008080; font-weight: bold\">4</span><span style=\"color: #800000; text-decoration-color: #800000\"> WARNING messages.                         </span>\n</pre>\n"
     },
     "metadata": {},
     "output_type": "display_data"
    },
    {
     "data": {
      "text/plain": "\u001B[2;36m               \u001B[0m\u001B[2;36m \u001B[0m\u001B[31mWARNING: Structure at \u001B[0m\u001B[32m'structures\u001B[0m\u001B[32m[\u001B[0m\u001B[32m0\u001B[0m\u001B[32m]\u001B[0m\u001B[32m'\u001B[0m\u001B[31m has bounds that extend    \u001B[0m\n\u001B[2;36m                \u001B[0m\u001B[31mexactly to simulation edges. This can cause unexpected behavior.\u001B[0m\n\u001B[2;36m                \u001B[0m\u001B[31mIf intending to extend the structure to infinity along one      \u001B[0m\n\u001B[2;36m                \u001B[0m\u001B[31mdimension, use td.inf as a size variable instead to make this   \u001B[0m\n\u001B[2;36m                \u001B[0m\u001B[31mexplicit.                                                       \u001B[0m\n",
      "text/html": "<pre style=\"white-space:pre;overflow-x:auto;line-height:normal;font-family:Menlo,'DejaVu Sans Mono',consolas,'Courier New',monospace\"><span style=\"color: #7fbfbf; text-decoration-color: #7fbfbf\">                </span><span style=\"color: #800000; text-decoration-color: #800000\">WARNING: Structure at </span><span style=\"color: #008000; text-decoration-color: #008000\">'structures[0]'</span><span style=\"color: #800000; text-decoration-color: #800000\"> has bounds that extend    </span>\n<span style=\"color: #7fbfbf; text-decoration-color: #7fbfbf\">                </span><span style=\"color: #800000; text-decoration-color: #800000\">exactly to simulation edges. This can cause unexpected behavior.</span>\n<span style=\"color: #7fbfbf; text-decoration-color: #7fbfbf\">                </span><span style=\"color: #800000; text-decoration-color: #800000\">If intending to extend the structure to infinity along one      </span>\n<span style=\"color: #7fbfbf; text-decoration-color: #7fbfbf\">                </span><span style=\"color: #800000; text-decoration-color: #800000\">dimension, use td.inf as a size variable instead to make this   </span>\n<span style=\"color: #7fbfbf; text-decoration-color: #7fbfbf\">                </span><span style=\"color: #800000; text-decoration-color: #800000\">explicit.                                                       </span>\n</pre>\n"
     },
     "metadata": {},
     "output_type": "display_data"
    },
    {
     "data": {
      "text/plain": "\u001B[2;36m               \u001B[0m\u001B[2;36m \u001B[0m\u001B[31mWARNING: Suppressed \u001B[0m\u001B[1;36m3\u001B[0m\u001B[31m WARNING messages.                         \u001B[0m\n",
      "text/html": "<pre style=\"white-space:pre;overflow-x:auto;line-height:normal;font-family:Menlo,'DejaVu Sans Mono',consolas,'Courier New',monospace\"><span style=\"color: #7fbfbf; text-decoration-color: #7fbfbf\">                </span><span style=\"color: #800000; text-decoration-color: #800000\">WARNING: Suppressed </span><span style=\"color: #008080; text-decoration-color: #008080; font-weight: bold\">3</span><span style=\"color: #800000; text-decoration-color: #800000\"> WARNING messages.                         </span>\n</pre>\n"
     },
     "metadata": {},
     "output_type": "display_data"
    },
    {
     "data": {
      "text/plain": "\u001B[2;36m               \u001B[0m\u001B[2;36m \u001B[0m\u001B[31mWARNING: Structure at structures\u001B[0m\u001B[1;31m[\u001B[0m\u001B[1;36m0\u001B[0m\u001B[1;31m]\u001B[0m\u001B[31m was detected as being less  \u001B[0m\n\u001B[2;36m                \u001B[0m\u001B[31mthan half of a central wavelength from a PML on side z-min. To  \u001B[0m\n\u001B[2;36m                \u001B[0m\u001B[31mavoid inaccurate results or divergence, please increase gap     \u001B[0m\n\u001B[2;36m                \u001B[0m\u001B[31mbetween any structures and PML or fully extend structure through\u001B[0m\n\u001B[2;36m                \u001B[0m\u001B[31mthe pml.                                                        \u001B[0m\n",
      "text/html": "<pre style=\"white-space:pre;overflow-x:auto;line-height:normal;font-family:Menlo,'DejaVu Sans Mono',consolas,'Courier New',monospace\"><span style=\"color: #7fbfbf; text-decoration-color: #7fbfbf\">                </span><span style=\"color: #800000; text-decoration-color: #800000\">WARNING: Structure at structures</span><span style=\"color: #800000; text-decoration-color: #800000; font-weight: bold\">[</span><span style=\"color: #008080; text-decoration-color: #008080; font-weight: bold\">0</span><span style=\"color: #800000; text-decoration-color: #800000; font-weight: bold\">]</span><span style=\"color: #800000; text-decoration-color: #800000\"> was detected as being less  </span>\n<span style=\"color: #7fbfbf; text-decoration-color: #7fbfbf\">                </span><span style=\"color: #800000; text-decoration-color: #800000\">than half of a central wavelength from a PML on side z-min. To  </span>\n<span style=\"color: #7fbfbf; text-decoration-color: #7fbfbf\">                </span><span style=\"color: #800000; text-decoration-color: #800000\">avoid inaccurate results or divergence, please increase gap     </span>\n<span style=\"color: #7fbfbf; text-decoration-color: #7fbfbf\">                </span><span style=\"color: #800000; text-decoration-color: #800000\">between any structures and PML or fully extend structure through</span>\n<span style=\"color: #7fbfbf; text-decoration-color: #7fbfbf\">                </span><span style=\"color: #800000; text-decoration-color: #800000\">the pml.                                                        </span>\n</pre>\n"
     },
     "metadata": {},
     "output_type": "display_data"
    },
    {
     "data": {
      "text/plain": "\u001B[2;36m               \u001B[0m\u001B[2;36m \u001B[0m\u001B[31mWARNING: Suppressed \u001B[0m\u001B[1;36m4\u001B[0m\u001B[31m WARNING messages.                         \u001B[0m\n",
      "text/html": "<pre style=\"white-space:pre;overflow-x:auto;line-height:normal;font-family:Menlo,'DejaVu Sans Mono',consolas,'Courier New',monospace\"><span style=\"color: #7fbfbf; text-decoration-color: #7fbfbf\">                </span><span style=\"color: #800000; text-decoration-color: #800000\">WARNING: Suppressed </span><span style=\"color: #008080; text-decoration-color: #008080; font-weight: bold\">4</span><span style=\"color: #800000; text-decoration-color: #800000\"> WARNING messages.                         </span>\n</pre>\n"
     },
     "metadata": {},
     "output_type": "display_data"
    },
    {
     "data": {
      "text/plain": "\u001B[2;36m               \u001B[0m\u001B[2;36m \u001B[0m\u001B[31mWARNING: Structure at \u001B[0m\u001B[32m'structures\u001B[0m\u001B[32m[\u001B[0m\u001B[32m0\u001B[0m\u001B[32m]\u001B[0m\u001B[32m'\u001B[0m\u001B[31m has bounds that extend    \u001B[0m\n\u001B[2;36m                \u001B[0m\u001B[31mexactly to simulation edges. This can cause unexpected behavior.\u001B[0m\n\u001B[2;36m                \u001B[0m\u001B[31mIf intending to extend the structure to infinity along one      \u001B[0m\n\u001B[2;36m                \u001B[0m\u001B[31mdimension, use td.inf as a size variable instead to make this   \u001B[0m\n\u001B[2;36m                \u001B[0m\u001B[31mexplicit.                                                       \u001B[0m\n",
      "text/html": "<pre style=\"white-space:pre;overflow-x:auto;line-height:normal;font-family:Menlo,'DejaVu Sans Mono',consolas,'Courier New',monospace\"><span style=\"color: #7fbfbf; text-decoration-color: #7fbfbf\">                </span><span style=\"color: #800000; text-decoration-color: #800000\">WARNING: Structure at </span><span style=\"color: #008000; text-decoration-color: #008000\">'structures[0]'</span><span style=\"color: #800000; text-decoration-color: #800000\"> has bounds that extend    </span>\n<span style=\"color: #7fbfbf; text-decoration-color: #7fbfbf\">                </span><span style=\"color: #800000; text-decoration-color: #800000\">exactly to simulation edges. This can cause unexpected behavior.</span>\n<span style=\"color: #7fbfbf; text-decoration-color: #7fbfbf\">                </span><span style=\"color: #800000; text-decoration-color: #800000\">If intending to extend the structure to infinity along one      </span>\n<span style=\"color: #7fbfbf; text-decoration-color: #7fbfbf\">                </span><span style=\"color: #800000; text-decoration-color: #800000\">dimension, use td.inf as a size variable instead to make this   </span>\n<span style=\"color: #7fbfbf; text-decoration-color: #7fbfbf\">                </span><span style=\"color: #800000; text-decoration-color: #800000\">explicit.                                                       </span>\n</pre>\n"
     },
     "metadata": {},
     "output_type": "display_data"
    },
    {
     "data": {
      "text/plain": "\u001B[2;36m               \u001B[0m\u001B[2;36m \u001B[0m\u001B[31mWARNING: Suppressed \u001B[0m\u001B[1;36m3\u001B[0m\u001B[31m WARNING messages.                         \u001B[0m\n",
      "text/html": "<pre style=\"white-space:pre;overflow-x:auto;line-height:normal;font-family:Menlo,'DejaVu Sans Mono',consolas,'Courier New',monospace\"><span style=\"color: #7fbfbf; text-decoration-color: #7fbfbf\">                </span><span style=\"color: #800000; text-decoration-color: #800000\">WARNING: Suppressed </span><span style=\"color: #008080; text-decoration-color: #008080; font-weight: bold\">3</span><span style=\"color: #800000; text-decoration-color: #800000\"> WARNING messages.                         </span>\n</pre>\n"
     },
     "metadata": {},
     "output_type": "display_data"
    },
    {
     "data": {
      "text/plain": "\u001B[2;36m               \u001B[0m\u001B[2;36m \u001B[0m\u001B[31mWARNING: Structure at structures\u001B[0m\u001B[1;31m[\u001B[0m\u001B[1;36m0\u001B[0m\u001B[1;31m]\u001B[0m\u001B[31m was detected as being less  \u001B[0m\n\u001B[2;36m                \u001B[0m\u001B[31mthan half of a central wavelength from a PML on side z-min. To  \u001B[0m\n\u001B[2;36m                \u001B[0m\u001B[31mavoid inaccurate results or divergence, please increase gap     \u001B[0m\n\u001B[2;36m                \u001B[0m\u001B[31mbetween any structures and PML or fully extend structure through\u001B[0m\n\u001B[2;36m                \u001B[0m\u001B[31mthe pml.                                                        \u001B[0m\n",
      "text/html": "<pre style=\"white-space:pre;overflow-x:auto;line-height:normal;font-family:Menlo,'DejaVu Sans Mono',consolas,'Courier New',monospace\"><span style=\"color: #7fbfbf; text-decoration-color: #7fbfbf\">                </span><span style=\"color: #800000; text-decoration-color: #800000\">WARNING: Structure at structures</span><span style=\"color: #800000; text-decoration-color: #800000; font-weight: bold\">[</span><span style=\"color: #008080; text-decoration-color: #008080; font-weight: bold\">0</span><span style=\"color: #800000; text-decoration-color: #800000; font-weight: bold\">]</span><span style=\"color: #800000; text-decoration-color: #800000\"> was detected as being less  </span>\n<span style=\"color: #7fbfbf; text-decoration-color: #7fbfbf\">                </span><span style=\"color: #800000; text-decoration-color: #800000\">than half of a central wavelength from a PML on side z-min. To  </span>\n<span style=\"color: #7fbfbf; text-decoration-color: #7fbfbf\">                </span><span style=\"color: #800000; text-decoration-color: #800000\">avoid inaccurate results or divergence, please increase gap     </span>\n<span style=\"color: #7fbfbf; text-decoration-color: #7fbfbf\">                </span><span style=\"color: #800000; text-decoration-color: #800000\">between any structures and PML or fully extend structure through</span>\n<span style=\"color: #7fbfbf; text-decoration-color: #7fbfbf\">                </span><span style=\"color: #800000; text-decoration-color: #800000\">the pml.                                                        </span>\n</pre>\n"
     },
     "metadata": {},
     "output_type": "display_data"
    },
    {
     "data": {
      "text/plain": "\u001B[2;36m               \u001B[0m\u001B[2;36m \u001B[0m\u001B[31mWARNING: Suppressed \u001B[0m\u001B[1;36m4\u001B[0m\u001B[31m WARNING messages.                         \u001B[0m\n",
      "text/html": "<pre style=\"white-space:pre;overflow-x:auto;line-height:normal;font-family:Menlo,'DejaVu Sans Mono',consolas,'Courier New',monospace\"><span style=\"color: #7fbfbf; text-decoration-color: #7fbfbf\">                </span><span style=\"color: #800000; text-decoration-color: #800000\">WARNING: Suppressed </span><span style=\"color: #008080; text-decoration-color: #008080; font-weight: bold\">4</span><span style=\"color: #800000; text-decoration-color: #800000\"> WARNING messages.                         </span>\n</pre>\n"
     },
     "metadata": {},
     "output_type": "display_data"
    },
    {
     "data": {
      "text/plain": "\u001B[2;36m               \u001B[0m\u001B[2;36m \u001B[0m\u001B[31mWARNING: Structure at \u001B[0m\u001B[32m'structures\u001B[0m\u001B[32m[\u001B[0m\u001B[32m0\u001B[0m\u001B[32m]\u001B[0m\u001B[32m'\u001B[0m\u001B[31m has bounds that extend    \u001B[0m\n\u001B[2;36m                \u001B[0m\u001B[31mexactly to simulation edges. This can cause unexpected behavior.\u001B[0m\n\u001B[2;36m                \u001B[0m\u001B[31mIf intending to extend the structure to infinity along one      \u001B[0m\n\u001B[2;36m                \u001B[0m\u001B[31mdimension, use td.inf as a size variable instead to make this   \u001B[0m\n\u001B[2;36m                \u001B[0m\u001B[31mexplicit.                                                       \u001B[0m\n",
      "text/html": "<pre style=\"white-space:pre;overflow-x:auto;line-height:normal;font-family:Menlo,'DejaVu Sans Mono',consolas,'Courier New',monospace\"><span style=\"color: #7fbfbf; text-decoration-color: #7fbfbf\">                </span><span style=\"color: #800000; text-decoration-color: #800000\">WARNING: Structure at </span><span style=\"color: #008000; text-decoration-color: #008000\">'structures[0]'</span><span style=\"color: #800000; text-decoration-color: #800000\"> has bounds that extend    </span>\n<span style=\"color: #7fbfbf; text-decoration-color: #7fbfbf\">                </span><span style=\"color: #800000; text-decoration-color: #800000\">exactly to simulation edges. This can cause unexpected behavior.</span>\n<span style=\"color: #7fbfbf; text-decoration-color: #7fbfbf\">                </span><span style=\"color: #800000; text-decoration-color: #800000\">If intending to extend the structure to infinity along one      </span>\n<span style=\"color: #7fbfbf; text-decoration-color: #7fbfbf\">                </span><span style=\"color: #800000; text-decoration-color: #800000\">dimension, use td.inf as a size variable instead to make this   </span>\n<span style=\"color: #7fbfbf; text-decoration-color: #7fbfbf\">                </span><span style=\"color: #800000; text-decoration-color: #800000\">explicit.                                                       </span>\n</pre>\n"
     },
     "metadata": {},
     "output_type": "display_data"
    },
    {
     "data": {
      "text/plain": "\u001B[2;36m               \u001B[0m\u001B[2;36m \u001B[0m\u001B[31mWARNING: Suppressed \u001B[0m\u001B[1;36m3\u001B[0m\u001B[31m WARNING messages.                         \u001B[0m\n",
      "text/html": "<pre style=\"white-space:pre;overflow-x:auto;line-height:normal;font-family:Menlo,'DejaVu Sans Mono',consolas,'Courier New',monospace\"><span style=\"color: #7fbfbf; text-decoration-color: #7fbfbf\">                </span><span style=\"color: #800000; text-decoration-color: #800000\">WARNING: Suppressed </span><span style=\"color: #008080; text-decoration-color: #008080; font-weight: bold\">3</span><span style=\"color: #800000; text-decoration-color: #800000\"> WARNING messages.                         </span>\n</pre>\n"
     },
     "metadata": {},
     "output_type": "display_data"
    },
    {
     "data": {
      "text/plain": "\u001B[2;36m               \u001B[0m\u001B[2;36m \u001B[0m\u001B[31mWARNING: Structure at structures\u001B[0m\u001B[1;31m[\u001B[0m\u001B[1;36m0\u001B[0m\u001B[1;31m]\u001B[0m\u001B[31m was detected as being less  \u001B[0m\n\u001B[2;36m                \u001B[0m\u001B[31mthan half of a central wavelength from a PML on side z-min. To  \u001B[0m\n\u001B[2;36m                \u001B[0m\u001B[31mavoid inaccurate results or divergence, please increase gap     \u001B[0m\n\u001B[2;36m                \u001B[0m\u001B[31mbetween any structures and PML or fully extend structure through\u001B[0m\n\u001B[2;36m                \u001B[0m\u001B[31mthe pml.                                                        \u001B[0m\n",
      "text/html": "<pre style=\"white-space:pre;overflow-x:auto;line-height:normal;font-family:Menlo,'DejaVu Sans Mono',consolas,'Courier New',monospace\"><span style=\"color: #7fbfbf; text-decoration-color: #7fbfbf\">                </span><span style=\"color: #800000; text-decoration-color: #800000\">WARNING: Structure at structures</span><span style=\"color: #800000; text-decoration-color: #800000; font-weight: bold\">[</span><span style=\"color: #008080; text-decoration-color: #008080; font-weight: bold\">0</span><span style=\"color: #800000; text-decoration-color: #800000; font-weight: bold\">]</span><span style=\"color: #800000; text-decoration-color: #800000\"> was detected as being less  </span>\n<span style=\"color: #7fbfbf; text-decoration-color: #7fbfbf\">                </span><span style=\"color: #800000; text-decoration-color: #800000\">than half of a central wavelength from a PML on side z-min. To  </span>\n<span style=\"color: #7fbfbf; text-decoration-color: #7fbfbf\">                </span><span style=\"color: #800000; text-decoration-color: #800000\">avoid inaccurate results or divergence, please increase gap     </span>\n<span style=\"color: #7fbfbf; text-decoration-color: #7fbfbf\">                </span><span style=\"color: #800000; text-decoration-color: #800000\">between any structures and PML or fully extend structure through</span>\n<span style=\"color: #7fbfbf; text-decoration-color: #7fbfbf\">                </span><span style=\"color: #800000; text-decoration-color: #800000\">the pml.                                                        </span>\n</pre>\n"
     },
     "metadata": {},
     "output_type": "display_data"
    },
    {
     "data": {
      "text/plain": "\u001B[2;36m               \u001B[0m\u001B[2;36m \u001B[0m\u001B[31mWARNING: Suppressed \u001B[0m\u001B[1;36m4\u001B[0m\u001B[31m WARNING messages.                         \u001B[0m\n",
      "text/html": "<pre style=\"white-space:pre;overflow-x:auto;line-height:normal;font-family:Menlo,'DejaVu Sans Mono',consolas,'Courier New',monospace\"><span style=\"color: #7fbfbf; text-decoration-color: #7fbfbf\">                </span><span style=\"color: #800000; text-decoration-color: #800000\">WARNING: Suppressed </span><span style=\"color: #008080; text-decoration-color: #008080; font-weight: bold\">4</span><span style=\"color: #800000; text-decoration-color: #800000\"> WARNING messages.                         </span>\n</pre>\n"
     },
     "metadata": {},
     "output_type": "display_data"
    },
    {
     "data": {
      "text/plain": "\u001B[2;36m               \u001B[0m\u001B[2;36m \u001B[0m\u001B[31mWARNING: Structure at \u001B[0m\u001B[32m'structures\u001B[0m\u001B[32m[\u001B[0m\u001B[32m0\u001B[0m\u001B[32m]\u001B[0m\u001B[32m'\u001B[0m\u001B[31m has bounds that extend    \u001B[0m\n\u001B[2;36m                \u001B[0m\u001B[31mexactly to simulation edges. This can cause unexpected behavior.\u001B[0m\n\u001B[2;36m                \u001B[0m\u001B[31mIf intending to extend the structure to infinity along one      \u001B[0m\n\u001B[2;36m                \u001B[0m\u001B[31mdimension, use td.inf as a size variable instead to make this   \u001B[0m\n\u001B[2;36m                \u001B[0m\u001B[31mexplicit.                                                       \u001B[0m\n",
      "text/html": "<pre style=\"white-space:pre;overflow-x:auto;line-height:normal;font-family:Menlo,'DejaVu Sans Mono',consolas,'Courier New',monospace\"><span style=\"color: #7fbfbf; text-decoration-color: #7fbfbf\">                </span><span style=\"color: #800000; text-decoration-color: #800000\">WARNING: Structure at </span><span style=\"color: #008000; text-decoration-color: #008000\">'structures[0]'</span><span style=\"color: #800000; text-decoration-color: #800000\"> has bounds that extend    </span>\n<span style=\"color: #7fbfbf; text-decoration-color: #7fbfbf\">                </span><span style=\"color: #800000; text-decoration-color: #800000\">exactly to simulation edges. This can cause unexpected behavior.</span>\n<span style=\"color: #7fbfbf; text-decoration-color: #7fbfbf\">                </span><span style=\"color: #800000; text-decoration-color: #800000\">If intending to extend the structure to infinity along one      </span>\n<span style=\"color: #7fbfbf; text-decoration-color: #7fbfbf\">                </span><span style=\"color: #800000; text-decoration-color: #800000\">dimension, use td.inf as a size variable instead to make this   </span>\n<span style=\"color: #7fbfbf; text-decoration-color: #7fbfbf\">                </span><span style=\"color: #800000; text-decoration-color: #800000\">explicit.                                                       </span>\n</pre>\n"
     },
     "metadata": {},
     "output_type": "display_data"
    },
    {
     "data": {
      "text/plain": "\u001B[2;36m16:22:35 ??????\u001B[0m\u001B[2;36m \u001B[0m\u001B[31mWARNING: Suppressed \u001B[0m\u001B[1;36m3\u001B[0m\u001B[31m WARNING messages.                         \u001B[0m\n",
      "text/html": "<pre style=\"white-space:pre;overflow-x:auto;line-height:normal;font-family:Menlo,'DejaVu Sans Mono',consolas,'Courier New',monospace\"><span style=\"color: #7fbfbf; text-decoration-color: #7fbfbf\">16:22:35 ?????? </span><span style=\"color: #800000; text-decoration-color: #800000\">WARNING: Suppressed </span><span style=\"color: #008080; text-decoration-color: #008080; font-weight: bold\">3</span><span style=\"color: #800000; text-decoration-color: #800000\"> WARNING messages.                         </span>\n</pre>\n"
     },
     "metadata": {},
     "output_type": "display_data"
    },
    {
     "data": {
      "text/plain": "\u001B[2;36m               \u001B[0m\u001B[2;36m \u001B[0m\u001B[31mWARNING: Structure at structures\u001B[0m\u001B[1;31m[\u001B[0m\u001B[1;36m0\u001B[0m\u001B[1;31m]\u001B[0m\u001B[31m was detected as being less  \u001B[0m\n\u001B[2;36m                \u001B[0m\u001B[31mthan half of a central wavelength from a PML on side z-min. To  \u001B[0m\n\u001B[2;36m                \u001B[0m\u001B[31mavoid inaccurate results or divergence, please increase gap     \u001B[0m\n\u001B[2;36m                \u001B[0m\u001B[31mbetween any structures and PML or fully extend structure through\u001B[0m\n\u001B[2;36m                \u001B[0m\u001B[31mthe pml.                                                        \u001B[0m\n",
      "text/html": "<pre style=\"white-space:pre;overflow-x:auto;line-height:normal;font-family:Menlo,'DejaVu Sans Mono',consolas,'Courier New',monospace\"><span style=\"color: #7fbfbf; text-decoration-color: #7fbfbf\">                </span><span style=\"color: #800000; text-decoration-color: #800000\">WARNING: Structure at structures</span><span style=\"color: #800000; text-decoration-color: #800000; font-weight: bold\">[</span><span style=\"color: #008080; text-decoration-color: #008080; font-weight: bold\">0</span><span style=\"color: #800000; text-decoration-color: #800000; font-weight: bold\">]</span><span style=\"color: #800000; text-decoration-color: #800000\"> was detected as being less  </span>\n<span style=\"color: #7fbfbf; text-decoration-color: #7fbfbf\">                </span><span style=\"color: #800000; text-decoration-color: #800000\">than half of a central wavelength from a PML on side z-min. To  </span>\n<span style=\"color: #7fbfbf; text-decoration-color: #7fbfbf\">                </span><span style=\"color: #800000; text-decoration-color: #800000\">avoid inaccurate results or divergence, please increase gap     </span>\n<span style=\"color: #7fbfbf; text-decoration-color: #7fbfbf\">                </span><span style=\"color: #800000; text-decoration-color: #800000\">between any structures and PML or fully extend structure through</span>\n<span style=\"color: #7fbfbf; text-decoration-color: #7fbfbf\">                </span><span style=\"color: #800000; text-decoration-color: #800000\">the pml.                                                        </span>\n</pre>\n"
     },
     "metadata": {},
     "output_type": "display_data"
    },
    {
     "data": {
      "text/plain": "\u001B[2;36m               \u001B[0m\u001B[2;36m \u001B[0m\u001B[31mWARNING: Suppressed \u001B[0m\u001B[1;36m4\u001B[0m\u001B[31m WARNING messages.                         \u001B[0m\n",
      "text/html": "<pre style=\"white-space:pre;overflow-x:auto;line-height:normal;font-family:Menlo,'DejaVu Sans Mono',consolas,'Courier New',monospace\"><span style=\"color: #7fbfbf; text-decoration-color: #7fbfbf\">                </span><span style=\"color: #800000; text-decoration-color: #800000\">WARNING: Suppressed </span><span style=\"color: #008080; text-decoration-color: #008080; font-weight: bold\">4</span><span style=\"color: #800000; text-decoration-color: #800000\"> WARNING messages.                         </span>\n</pre>\n"
     },
     "metadata": {},
     "output_type": "display_data"
    },
    {
     "data": {
      "text/plain": "\u001B[2;36m               \u001B[0m\u001B[2;36m \u001B[0m\u001B[31mWARNING: Structure at \u001B[0m\u001B[32m'structures\u001B[0m\u001B[32m[\u001B[0m\u001B[32m0\u001B[0m\u001B[32m]\u001B[0m\u001B[32m'\u001B[0m\u001B[31m has bounds that extend    \u001B[0m\n\u001B[2;36m                \u001B[0m\u001B[31mexactly to simulation edges. This can cause unexpected behavior.\u001B[0m\n\u001B[2;36m                \u001B[0m\u001B[31mIf intending to extend the structure to infinity along one      \u001B[0m\n\u001B[2;36m                \u001B[0m\u001B[31mdimension, use td.inf as a size variable instead to make this   \u001B[0m\n\u001B[2;36m                \u001B[0m\u001B[31mexplicit.                                                       \u001B[0m\n",
      "text/html": "<pre style=\"white-space:pre;overflow-x:auto;line-height:normal;font-family:Menlo,'DejaVu Sans Mono',consolas,'Courier New',monospace\"><span style=\"color: #7fbfbf; text-decoration-color: #7fbfbf\">                </span><span style=\"color: #800000; text-decoration-color: #800000\">WARNING: Structure at </span><span style=\"color: #008000; text-decoration-color: #008000\">'structures[0]'</span><span style=\"color: #800000; text-decoration-color: #800000\"> has bounds that extend    </span>\n<span style=\"color: #7fbfbf; text-decoration-color: #7fbfbf\">                </span><span style=\"color: #800000; text-decoration-color: #800000\">exactly to simulation edges. This can cause unexpected behavior.</span>\n<span style=\"color: #7fbfbf; text-decoration-color: #7fbfbf\">                </span><span style=\"color: #800000; text-decoration-color: #800000\">If intending to extend the structure to infinity along one      </span>\n<span style=\"color: #7fbfbf; text-decoration-color: #7fbfbf\">                </span><span style=\"color: #800000; text-decoration-color: #800000\">dimension, use td.inf as a size variable instead to make this   </span>\n<span style=\"color: #7fbfbf; text-decoration-color: #7fbfbf\">                </span><span style=\"color: #800000; text-decoration-color: #800000\">explicit.                                                       </span>\n</pre>\n"
     },
     "metadata": {},
     "output_type": "display_data"
    },
    {
     "data": {
      "text/plain": "\u001B[2;36m               \u001B[0m\u001B[2;36m \u001B[0m\u001B[31mWARNING: Suppressed \u001B[0m\u001B[1;36m3\u001B[0m\u001B[31m WARNING messages.                         \u001B[0m\n",
      "text/html": "<pre style=\"white-space:pre;overflow-x:auto;line-height:normal;font-family:Menlo,'DejaVu Sans Mono',consolas,'Courier New',monospace\"><span style=\"color: #7fbfbf; text-decoration-color: #7fbfbf\">                </span><span style=\"color: #800000; text-decoration-color: #800000\">WARNING: Suppressed </span><span style=\"color: #008080; text-decoration-color: #008080; font-weight: bold\">3</span><span style=\"color: #800000; text-decoration-color: #800000\"> WARNING messages.                         </span>\n</pre>\n"
     },
     "metadata": {},
     "output_type": "display_data"
    },
    {
     "data": {
      "text/plain": "\u001B[2;36m               \u001B[0m\u001B[2;36m \u001B[0m\u001B[31mWARNING: Structure at structures\u001B[0m\u001B[1;31m[\u001B[0m\u001B[1;36m0\u001B[0m\u001B[1;31m]\u001B[0m\u001B[31m was detected as being less  \u001B[0m\n\u001B[2;36m                \u001B[0m\u001B[31mthan half of a central wavelength from a PML on side z-min. To  \u001B[0m\n\u001B[2;36m                \u001B[0m\u001B[31mavoid inaccurate results or divergence, please increase gap     \u001B[0m\n\u001B[2;36m                \u001B[0m\u001B[31mbetween any structures and PML or fully extend structure through\u001B[0m\n\u001B[2;36m                \u001B[0m\u001B[31mthe pml.                                                        \u001B[0m\n",
      "text/html": "<pre style=\"white-space:pre;overflow-x:auto;line-height:normal;font-family:Menlo,'DejaVu Sans Mono',consolas,'Courier New',monospace\"><span style=\"color: #7fbfbf; text-decoration-color: #7fbfbf\">                </span><span style=\"color: #800000; text-decoration-color: #800000\">WARNING: Structure at structures</span><span style=\"color: #800000; text-decoration-color: #800000; font-weight: bold\">[</span><span style=\"color: #008080; text-decoration-color: #008080; font-weight: bold\">0</span><span style=\"color: #800000; text-decoration-color: #800000; font-weight: bold\">]</span><span style=\"color: #800000; text-decoration-color: #800000\"> was detected as being less  </span>\n<span style=\"color: #7fbfbf; text-decoration-color: #7fbfbf\">                </span><span style=\"color: #800000; text-decoration-color: #800000\">than half of a central wavelength from a PML on side z-min. To  </span>\n<span style=\"color: #7fbfbf; text-decoration-color: #7fbfbf\">                </span><span style=\"color: #800000; text-decoration-color: #800000\">avoid inaccurate results or divergence, please increase gap     </span>\n<span style=\"color: #7fbfbf; text-decoration-color: #7fbfbf\">                </span><span style=\"color: #800000; text-decoration-color: #800000\">between any structures and PML or fully extend structure through</span>\n<span style=\"color: #7fbfbf; text-decoration-color: #7fbfbf\">                </span><span style=\"color: #800000; text-decoration-color: #800000\">the pml.                                                        </span>\n</pre>\n"
     },
     "metadata": {},
     "output_type": "display_data"
    },
    {
     "data": {
      "text/plain": "\u001B[2;36m               \u001B[0m\u001B[2;36m \u001B[0m\u001B[31mWARNING: Suppressed \u001B[0m\u001B[1;36m4\u001B[0m\u001B[31m WARNING messages.                         \u001B[0m\n",
      "text/html": "<pre style=\"white-space:pre;overflow-x:auto;line-height:normal;font-family:Menlo,'DejaVu Sans Mono',consolas,'Courier New',monospace\"><span style=\"color: #7fbfbf; text-decoration-color: #7fbfbf\">                </span><span style=\"color: #800000; text-decoration-color: #800000\">WARNING: Suppressed </span><span style=\"color: #008080; text-decoration-color: #008080; font-weight: bold\">4</span><span style=\"color: #800000; text-decoration-color: #800000\"> WARNING messages.                         </span>\n</pre>\n"
     },
     "metadata": {},
     "output_type": "display_data"
    }
   ],
   "source": [
    "import numpy as np\n",
    "import tidy3d as td\n",
    "import h5py\n",
    "\n",
    "def save_data_to_txt(x_data, y_data, filename):\n",
    "    with open(filename, 'w') as file:\n",
    "        for x, y in zip(x_data, y_data):\n",
    "            file.write(f\"{x} {y}\\n\")\n",
    "\n",
    "wl_start = 5  # wavelength\n",
    "wl_end = 15  # wavelength\n",
    "freq_start = td.C_0 / wl_end\n",
    "freq_end = td.C_0 / wl_start\n",
    "freqs = np.linspace(freq_start, freq_end, 100)  # freqeucny range of the simulation\n",
    "freq0 = (freq_start + freq_end) / 2  # central frequency\n",
    "freqw = freq_end - freq_start\n",
    "\n",
    "\n",
    "def analyse(t_value):\n",
    "    sim_data = td.SimulationData.from_file(f\"F:/OneDrive - UW-Madison/python/tidy 3d/HVO2emicam/data/HVO{t_value:.2f}.hdf5\")\n",
    "    R = sim_data[\"R\"].flux.values[0:100]\n",
    "    A = 1 - R\n",
    "    x_data = td.C_0 / freqs\n",
    "    y_data = A\n",
    "    t_value = 0.1 - t_value\n",
    "    filename = f\"F:/OneDrive - UW-Madison/python/tidy 3d/HVO2emicam/data/HVO{t_value:.2f}.txt\"\n",
    "    save_data_to_txt(x_data, y_data, filename)\n",
    "    return x_data, y_data  # Returning data for potential further analysis\n",
    "\n",
    "for t_value in np.arange(0.01, 0.10, 0.01):\n",
    "    analyse(t_value)\n",
    "    \n",
    "\n",
    " \n",
    "    # 将更改写入\n"
   ],
   "metadata": {
    "collapsed": false,
    "ExecuteTime": {
     "end_time": "2024-02-24T22:22:35.371955500Z",
     "start_time": "2024-02-24T22:22:33.491361900Z"
    }
   },
   "id": "a1e681139aced0d7",
   "execution_count": 4
  },
  {
   "cell_type": "code",
   "outputs": [],
   "source": [],
   "metadata": {
    "collapsed": false,
    "ExecuteTime": {
     "end_time": "2024-02-24T22:22:35.408271100Z",
     "start_time": "2024-02-24T22:22:35.376039Z"
    }
   },
   "id": "6320f567ff3f0362",
   "execution_count": 4
  },
  {
   "cell_type": "code",
   "outputs": [],
   "source": [],
   "metadata": {
    "collapsed": false,
    "ExecuteTime": {
     "end_time": "2024-02-24T22:22:35.431460900Z",
     "start_time": "2024-02-24T22:22:35.400883200Z"
    }
   },
   "id": "1fe45e25812fced6",
   "execution_count": 4
  }
 ],
 "metadata": {
  "kernelspec": {
   "display_name": "Python 3",
   "language": "python",
   "name": "python3"
  },
  "language_info": {
   "codemirror_mode": {
    "name": "ipython",
    "version": 2
   },
   "file_extension": ".py",
   "mimetype": "text/x-python",
   "name": "python",
   "nbconvert_exporter": "python",
   "pygments_lexer": "ipython2",
   "version": "2.7.6"
  }
 },
 "nbformat": 4,
 "nbformat_minor": 5
}
